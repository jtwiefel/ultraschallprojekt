{
 "cells": [
  {
   "cell_type": "markdown",
   "metadata": {},
   "source": [
    "# ADC tests - `20180103a` test of acquisition with a AD08200 ADC pHAT\n",
    "\n",
    "## Testing Felix file with AD08200\n",
    " "
   ]
  },
  {
   "cell_type": "code",
   "execution_count": 10,
   "metadata": {
    "collapsed": false
   },
   "outputs": [],
   "source": [
    "import matplotlib.pyplot as plt\n",
    "import numpy as np\n",
    "\n",
    "def GetSeries(Volts):\n",
    "    \n",
    "    Map = np.zeros((len(Volts)-1,34), dtype=np.int)\n",
    "    for i in range(len(Volts)-1):\n",
    "        val = Volts[i]\n",
    "        for k in range(34):\n",
    "            Map[i][k] = (val & 2**k)/2**k\n",
    "\n",
    "    return Map"
   ]
  },
  {
   "cell_type": "markdown",
   "metadata": {},
   "source": [
    "## Opening file"
   ]
  },
  {
   "cell_type": "code",
   "execution_count": 35,
   "metadata": {
    "collapsed": false
   },
   "outputs": [
    {
     "name": "stdout",
     "output_type": "stream",
     "text": [
      "10001\n"
     ]
    }
   ],
   "source": [
    "Bytes = np.fromfile(\"felix.data\", dtype = '<i4')\n",
    "n = len(Bytes)\n",
    "print n\n",
    "Map = GetSeries(Bytes)\n",
    "Duration = Bytes[n-1]\n",
    "Fech = n*1.0/(Duration*1e-9)/1e6"
   ]
  },
  {
   "cell_type": "code",
   "execution_count": 36,
   "metadata": {
    "collapsed": false
   },
   "outputs": [
    {
     "name": "stdout",
     "output_type": "stream",
     "text": [
      "It took 843992ns to record 10000 samples.\n",
      "Sampling freq is 11.8496383852 Msps.\n"
     ]
    }
   ],
   "source": [
    "print \"It took \"+str(Duration)+ \"ns to record \"+ str(n-1)+\" samples.\"\n",
    "print \"Sampling freq is \"+str(Fech)+\" Msps.\""
   ]
  },
  {
   "cell_type": "code",
   "execution_count": 13,
   "metadata": {
    "collapsed": false
   },
   "outputs": [
    {
     "data": {
      "image/png": "[encoded data removed]",
      "text/plain": [
       "<matplotlib.figure.Figure at 0x7f8e8fd9b650>"
      ]
     },
     "metadata": {},
     "output_type": "display_data"
    }
   ],
   "source": [
    "im = plt.imshow(Map, cmap='hot', aspect=\"auto\")\n",
    "#plt.colorbar(im, orientation='horizontal')\n",
    "plt.show()"
   ]
  },
  {
   "cell_type": "code",
   "execution_count": 14,
   "metadata": {
    "collapsed": false
   },
   "outputs": [
    {
     "data": {
      "image/png": "[encoded data removed]",
      "text/plain": [
       "<matplotlib.figure.Figure at 0x7f8e8fccc0d0>"
      ]
     },
     "metadata": {},
     "output_type": "display_data"
    }
   ],
   "source": [
    "plt.plot(np.var(Map,0))\n",
    "plt.show()"
   ]
  },
  {
   "cell_type": "code",
   "execution_count": 15,
   "metadata": {
    "collapsed": false
   },
   "outputs": [
    {
     "name": "stdout",
     "output_type": "stream",
     "text": [
      "4 - 0.24966876\n",
      "7 - 0.24990199\n",
      "8 - 0.23792199\n",
      "9 - 0.077775\n",
      "10 - 0.00803439\n",
      "11 - 0.002991\n"
     ]
    }
   ],
   "source": [
    "for m in range(32):\n",
    "    if (np.var(Map,0)[m] > 0.0003) :\n",
    "        print str(m)+\" - \"+str(np.var(Map,0)[m])\n"
   ]
  },
  {
   "cell_type": "markdown",
   "metadata": {},
   "source": [
    "# Bits on the AD08200\n",
    "\n",
    "Clock: close to 0.25\n",
    "\n",
    "* D0: 26 - GPIO7\n",
    "* D1: 24 - GPIO8\n",
    "* D2: 21 - GPIO9\n",
    "* D3: 19 - GPI10\n",
    "* D4: 23 - GPI11\n",
    "* D5: 16 - GPI23\n",
    "* D6: 18 - GPI24\n",
    "* D7: 22 - GPI25"
   ]
  },
  {
   "cell_type": "code",
   "execution_count": 16,
   "metadata": {
    "collapsed": true
   },
   "outputs": [],
   "source": [
    "ADC2_GPIO = [7, 8,9,10,11,23,24,25]\n",
    "ADC2len = len( ADC2_GPIO)"
   ]
  },
  {
   "cell_type": "code",
   "execution_count": 17,
   "metadata": {
    "collapsed": true
   },
   "outputs": [],
   "source": [
    "def GetV2(Volts):\n",
    "    Signal = []\n",
    "    Map = np.zeros((len(Volts),ADC2len), dtype=np.int)\n",
    "    for i in range(len(Volts)):\n",
    "        val = Volts[i]\n",
    "        SignalZero = 0\n",
    "        for k in range(ADC2len):\n",
    "            Map[i][k] = (val & 2**k)/2**k\n",
    "        for k in range(ADC2len):\n",
    "            SignalZero += 2**k*((val & 2**ADC2_GPIO[k])/2**ADC2_GPIO[k])\n",
    "        Signal.append(SignalZero)\n",
    "\n",
    "            \n",
    "    return Signal,Map"
   ]
  },
  {
   "cell_type": "code",
   "execution_count": 41,
   "metadata": {
    "collapsed": false
   },
   "outputs": [
    {
     "data": {
      "image/png": "[encoded data removed]",
      "text/plain": [
       "<matplotlib.figure.Figure at 0x7f8e9021d7d0>"
      ]
     },
     "metadata": {},
     "output_type": "display_data"
    }
   ],
   "source": [
    "t = range(n)\n",
    "for k in range(n):\n",
    "    t[k] = 1.0*t[k]/Fech\n",
    "M = GetV2(Bytes)[0]\n",
    "plt.plot(t,M[0:n])\n",
    "plt.xlabel('t in us')\n",
    "plt.show()"
   ]
  },
  {
   "cell_type": "code",
   "execution_count": 42,
   "metadata": {
    "collapsed": false,
    "scrolled": true
   },
   "outputs": [
    {
     "data": {
      "image/png": "[encoded data removed]",
      "text/plain": [
       "<matplotlib.figure.Figure at 0x7f8e9021dc10>"
      ]
     },
     "metadata": {},
     "output_type": "display_data"
    }
   ],
   "source": [
    "plt.plot(t[9000:10000],M[9000:10000])\n",
    "plt.xlabel('t in us')\n",
    "plt.show()"
   ]
  },
  {
   "cell_type": "code",
   "execution_count": null,
   "metadata": {
    "collapsed": true
   },
   "outputs": [],
   "source": []
  }
 ],
 "metadata": {
  "kernelspec": {
   "display_name": "Python 2",
   "language": "python",
   "name": "python2"
  },
  "language_info": {
   "codemirror_mode": {
    "name": "ipython",
    "version": 2
   },
   "file_extension": ".py",
   "mimetype": "text/x-python",
   "name": "python",
   "nbconvert_exporter": "python",
   "pygments_lexer": "ipython2",
   "version": "2.7.12"
  }
 },
 "nbformat": 4,
 "nbformat_minor": 2
}
