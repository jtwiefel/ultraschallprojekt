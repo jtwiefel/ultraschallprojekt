{
 "cells": [
  {
   "cell_type": "markdown",
   "metadata": {},
   "source": [
    "# ADC tests - `20180103a` test of acquisition with a AD08200 ADC pHAT\n",
    "\n",
    "## Testing Hannes file with AD08200\n",
    " "
   ]
  },
  {
   "cell_type": "markdown",
   "metadata": {},
   "source": [
    "The acquisition using cat took only milliseconds. So we added a delay in scope.c. This changes the sample frequency.\n",
    "Actually, we don't if that was a good idea. The head did a minimal movement. I guess we have to collect even more data.\n",
    "I added some comments at parts of the code that I cannot follow. Mostly, it is about hardcoded numbers"
   ]
  },
  {
   "cell_type": "code",
   "execution_count": 1,
   "metadata": {},
   "outputs": [
    {
     "name": "stderr",
     "output_type": "stream",
     "text": [
      "/usr/local/lib/python2.7/dist-packages/matplotlib/font_manager.py:273: UserWarning: Matplotlib is building the font cache using fc-list. This may take a moment.\n",
      "  warnings.warn('Matplotlib is building the font cache using fc-list. This may take a moment.')\n"
     ]
    }
   ],
   "source": [
    "import matplotlib.pyplot as plt\n",
    "import numpy as np\n",
    "from scipy import signal\n",
    "from scipy.signal import decimate, convolve\n",
    "import math\n",
    "from scipy.interpolate import griddata\n",
    "\n",
    "def GetSeries(Volts):\n",
    "    \n",
    "    Map = np.zeros((len(Volts)-1,34), dtype=np.int)#why 34 here?\n",
    "    for i in range(len(Volts)-1):\n",
    "        val = Volts[i]\n",
    "        for k in range(34):\n",
    "            Map[i][k] = (val & 2**k)/2**k\n",
    "\n",
    "    return Map"
   ]
  },
  {
   "cell_type": "markdown",
   "metadata": {},
   "source": [
    "## Opening file"
   ]
  },
  {
   "cell_type": "code",
   "execution_count": 2,
   "metadata": {},
   "outputs": [],
   "source": [
    "filename = \"rawdata/hannes25.dat\"\n",
    "Bytes = np.fromfile(filename, dtype = '<i4')\n"
   ]
  },
  {
   "cell_type": "code",
   "execution_count": null,
   "metadata": {},
   "outputs": [
    {
     "name": "stdout",
     "output_type": "stream",
     "text": [
      "2000000\n"
     ]
    }
   ],
   "source": [
    "#n = len(Bytes)\n",
    "n = len(Bytes)-1#did you mean this?\n",
    "print n\n",
    "#Map = GetSeries(Bytes)\n",
    "Map = GetSeries(Bytes[:-1])#did you mean this?\n",
    "#Duration = Bytes[n-1]\n",
    "Duration = Bytes[-1]#did you mean this?\n",
    "Fech = n*1.0/(Duration*1e-9)/1e6\n",
    "print Fech\n",
    "#guess the frequency is correct because we added a delay to the scope.c\n",
    "#don't know if this was a good idea or not :)"
   ]
  },
  {
   "cell_type": "code",
   "execution_count": null,
   "metadata": {},
   "outputs": [],
   "source": [
    "print \"It took \"+str(Duration)+ \"ns to record \"+ str(n)+\" samples.\"\n",
    "print \"Sampling freq is \"+str(Fech)+\" Msps.\""
   ]
  },
  {
   "cell_type": "code",
   "execution_count": null,
   "metadata": {},
   "outputs": [],
   "source": [
    "im = plt.imshow(Map, cmap='hot', aspect=\"auto\")\n",
    "#plt.colorbar(im, orientation='horizontal')\n",
    "plt.show()"
   ]
  },
  {
   "cell_type": "code",
   "execution_count": null,
   "metadata": {},
   "outputs": [],
   "source": [
    "plt.plot(np.var(Map,0))\n",
    "plt.show()"
   ]
  },
  {
   "cell_type": "code",
   "execution_count": null,
   "metadata": {},
   "outputs": [],
   "source": [
    "for m in range(32):\n",
    "    if (np.var(Map,0)[m] > 0.0003) :\n",
    "        print str(m)+\" - \"+str(np.var(Map,0)[m])\n"
   ]
  },
  {
   "cell_type": "markdown",
   "metadata": {},
   "source": [
    "# Bits on the AD08200\n",
    "\n",
    "Clock: close to 0.25\n",
    "\n",
    "* D0: 26 - GPIO7\n",
    "* D1: 24 - GPIO8\n",
    "* D2: 21 - GPIO9\n",
    "* D3: 19 - GPI10\n",
    "* D4: 23 - GPI11\n",
    "* D5: 16 - GPI23\n",
    "* D6: 18 - GPI24\n",
    "* D7: 22 - GPI25"
   ]
  },
  {
   "cell_type": "code",
   "execution_count": null,
   "metadata": {},
   "outputs": [],
   "source": [
    "ADC2_GPIO = [7, 8,9,10,11,23,24,25]\n",
    "ADC2len = len( ADC2_GPIO)"
   ]
  },
  {
   "cell_type": "code",
   "execution_count": null,
   "metadata": {},
   "outputs": [],
   "source": [
    "def GetV2(Volts):\n",
    "    Signal = []\n",
    "    Map = np.zeros((len(Volts),ADC2len), dtype=np.int)\n",
    "    for i in range(len(Volts)):\n",
    "        val = Volts[i]\n",
    "        SignalZero = 0\n",
    "        for k in range(ADC2len):\n",
    "            Map[i][k] = (val & 2**k)/2**k\n",
    "        for k in range(ADC2len):\n",
    "            SignalZero += 2**k*((val & 2**ADC2_GPIO[k])/2**ADC2_GPIO[k])\n",
    "        Signal.append(SignalZero)\n",
    "\n",
    "            \n",
    "    return Signal,Map"
   ]
  },
  {
   "cell_type": "code",
   "execution_count": null,
   "metadata": {},
   "outputs": [],
   "source": [
    "t = range(n)\n",
    "for k in range(n):\n",
    "    t[k] = 1.0*t[k]/Fech\n",
    "#M = GetV2(Bytes)[0]\n",
    "M = GetV2(Bytes[:-1])[0]#did you mean this?\n",
    "print len(M)\n",
    "print len(t)\n",
    "plt.plot(t,M[0:n])\n",
    "plt.xlabel('t in us')\n",
    "plt.show()"
   ]
  },
  {
   "cell_type": "code",
   "execution_count": null,
   "metadata": {
    "scrolled": true
   },
   "outputs": [],
   "source": [
    "plt.plot(t[9000:10000],M[9000:10000])\n",
    "plt.xlabel('t in us')\n",
    "plt.show()"
   ]
  },
  {
   "cell_type": "code",
   "execution_count": null,
   "metadata": {},
   "outputs": [],
   "source": [
    "#get the normalized signal\n",
    "rawSig = M - np.average(M)\n",
    "print len(rawSig)"
   ]
  },
  {
   "cell_type": "code",
   "execution_count": null,
   "metadata": {},
   "outputs": [],
   "source": [
    "#perform FFT and delete unwanted frequencies\n",
    "FFT = np.fft.fft(rawSig)\n",
    "FFTCleaned = np.fft.fft(rawSig)\n",
    "FStart = 0.068*len(FFTCleaned)\n",
    "FStop = 0.196*len(FFTCleaned)\n",
    "for k in range(len(FFTCleaned)/2):\n",
    "    if (k < FStart or k > FStop): # in (k < 550000 or k > 790000) # 0.068 0.196 #where are these numbers coming from?\n",
    "        FFTCleaned[k] = 0\n",
    "        FFTCleaned[-k] = 0"
   ]
  },
  {
   "cell_type": "code",
   "execution_count": null,
   "metadata": {},
   "outputs": [],
   "source": [
    "#plot the spectrum and the cleaned spectrum\n",
    "Scale = max(FFT)\n",
    "ff = [ Fech*2.0*x/(len(rawSig)) for x in range(len(rawSig)/2)]\n",
    "plt.figure(figsize=(15,5))\n",
    "print len(ff)\n",
    "print len(np.real(FFT)[0:len(FFT)/2]/Scale)\n",
    "plt.plot(ff,np.real(FFT)[0:len(FFT)/2]/Scale,\"b\")\n",
    "plt.plot(ff,np.imag(FFT)[0:len(FFT)/2]/Scale,\"g\")\n",
    "plt.plot(ff,np.imag(FFTCleaned)[0:len(FFT)/2]/Scale,\"y\")\n",
    "plt.plot(ff,np.real(FFTCleaned)[0:len(FFT)/2]/Scale,\"y\")\n",
    "plt.title(\"Details of the FFT of the data from \"+filename.split(\"/\")[-1]+\" .\")  \n",
    "plt.xlabel(\"Frequency (MHz)\")\n",
    "#plt.savefig('Imgs/fft_'+RawData.split(\"/\")[-1]+\".png\", bbox_inches='tight')\n",
    "plt.show()"
   ]
  },
  {
   "cell_type": "code",
   "execution_count": null,
   "metadata": {},
   "outputs": [],
   "source": [
    "#transfer the cleaned spectrum back to the time domain\n",
    "F = np.real(np.fft.ifft(FFTCleaned))"
   ]
  },
  {
   "cell_type": "code",
   "execution_count": null,
   "metadata": {},
   "outputs": [],
   "source": [
    "#calculate the envelope using a hilbert transform\n",
    "FH = np.asarray(np.abs(signal.hilbert(F)))"
   ]
  },
  {
   "cell_type": "code",
   "execution_count": null,
   "metadata": {},
   "outputs": [],
   "source": [
    "#print the raw signal, filtered signal and envelope on the index line\n",
    "IndexEmpty = 20 #where does this number come from?\n",
    "IndexLine = 104 #where does this number come from?\n",
    "tt = IndexLine*2500 #where does this number come from?\n",
    "plt.figure(figsize=(15,5))\n",
    "T = [ (( x * Duration ) / ( 1000.0*len(rawSig) )) for x in 2*range(len(rawSig))]\n",
    "TT = np.divide(T,2.0)\n",
    "plt.plot(TT[2*tt:2*tt+2*15000],rawSig[2*tt:2*tt+2*15000],\"y\", label='Raw signal') #where does this number (15000) come from?\n",
    "plt.plot(TT[2*tt:2*tt+2*15000],np.real(np.fft.ifft(FFTCleaned))[2*tt:2*tt+2*15000],\"b\", label='Filtered signal')\n",
    "plt.plot(TT[2*tt:2*tt+2*15000],FH[2*tt:2*tt+2*15000],\"g\", label='Enveloppe of the signal')\n",
    "plt.title(\"Details from \"+filename.split(\"/\")[-1]+\".\")  \n",
    "plt.legend(bbox_to_anchor=(1.05, 1), loc=2, borderaxespad=0.)\n",
    "#plt.savefig('Imgs/datas_'+RawData.split(\"/\")[-1]+'.png', bbox_inches='tight')\n",
    "plt.show()\n"
   ]
  },
  {
   "cell_type": "code",
   "execution_count": null,
   "metadata": {},
   "outputs": [],
   "source": [
    "#the reshape the signal\n",
    "#tableData = np.asarray(FH).reshape((1000,2*2500)) where are these dimensions coming from??\n",
    "#tableDataRaw = np.asarray(rawSig).reshape((1000,2*2500))\n",
    "\n",
    "#randomly trying out dimensions...\n",
    "ydim = 2500\n",
    "xdim = n/ydim\n",
    "tableData = np.asarray(FH).reshape((xdim,ydim))"
   ]
  },
  {
   "cell_type": "code",
   "execution_count": null,
   "metadata": {},
   "outputs": [],
   "source": []
  },
  {
   "cell_type": "code",
   "execution_count": null,
   "metadata": {},
   "outputs": [],
   "source": []
  },
  {
   "cell_type": "code",
   "execution_count": null,
   "metadata": {},
   "outputs": [],
   "source": [
    "#not sure what this plot is used for...\n",
    "EmptyLine = rawSig[5000*IndexEmpty:5000*IndexEmpty+25000]\n",
    "FullLine = rawSig[5000*IndexLine:5000*IndexLine+25000]\n",
    "FFul = np.fft.fft(FullLine)\n",
    "FFem = np.fft.fft(EmptyLine)\n",
    "for i in range(len(FullLine)/2):\n",
    "    if (i < 1700 or i > 4900):\n",
    "        FFul[i] = 0\n",
    "        FFem[i] = 0\n",
    "    \n",
    "f, (ax1, ax2) = plt.subplots(1, 2, figsize=(15,5))\n",
    "ax1.plot(ff[0:len(FullLine)/2],np.abs(FFul)[0:len(FullLine)/2],\"r\")\n",
    "ax1.plot(ff[0:len(FullLine)/2],np.abs(FFem)[0:len(FullLine)/2],\"b\")\n",
    "ax1.set_title('Counting turns')\n",
    "\n",
    "ax1.set_title('Counting turns details')\n",
    "diff = np.abs(FFul) - np.abs(FFem)\n",
    "ax2.plot(ff[0:len(FullLine)/2],diff[0:len(FullLine)/2],\"r\")\n",
    "plt.show()"
   ]
  },
  {
   "cell_type": "code",
   "execution_count": null,
   "metadata": {},
   "outputs": [],
   "source": [
    "ExLine = tableData[IndexLine]\n",
    "ExLineRaw = tableData[IndexLine]\n",
    "plt.figure(figsize=(15,5))\n",
    "plt.plot(T[0:3000],rawSig[5000*IndexLine:5000*IndexLine+3000],\"y\", label='Raw signal')\n",
    "plt.plot(T[0:3000],F[5000*IndexLine:5000*IndexLine+3000],\"r\", label='Filtered signal')\n",
    "#plt.plot(T[0:3000],ExLine[0:3000],\"b\", label='Enveloppe of the signal')\n",
    "print len(T[0:3000])\n",
    "print len(ExLine[0:3000])\n",
    "#the dimensions are not matching. guess theres something wrong with the dimensions of tableData\n",
    "plt.title(\"Details of a line\")\n",
    "plt.xlabel(\"Time in uS\")\n",
    "plt.legend(bbox_to_anchor=(1.05, 1), loc=2, borderaxespad=0.)\n",
    "#plt.savefig('Imgs/ProcessingLine_'+RawData.split(\"/\")[-1]+\".png\", bbox_inches='tight')\n",
    "plt.show()"
   ]
  },
  {
   "cell_type": "code",
   "execution_count": null,
   "metadata": {},
   "outputs": [],
   "source": [
    "#add an offset to the image, will do that later\n",
    "#get average value\n",
    "Val = np.average(tableData)\n",
    "#tableData = np.asarray(FH).reshape((1000,2*2500))\n",
    "#Offset = 400\n",
    "#MinTable = 10*np.min(tableData)\n",
    "#Zeroes = np.zeros((2500,Offset))+Val\n",
    "#BigTable = []\n",
    "#BigTable = np.append(Zeroes, tableData, axis=1)"
   ]
  },
  {
   "cell_type": "code",
   "execution_count": null,
   "metadata": {},
   "outputs": [],
   "source": [
    "#plot the reshaped data\n",
    "#there are some dots, so guess the file contains data\n",
    "plt.imshow((abs(tableData)), aspect='auto')\n",
    "#plt.axhline(IndexLine, color='r', linestyle='--')\n",
    "#plt.title(\"Mapping the data from \"+RawData.split(\"/\")[-1]+\" .\")  \n",
    "#plt.savefig('Imgs/map_'+RawData.split(\"/\")[-1]+\".png\", bbox_inches='tight')\n",
    "plt.show()"
   ]
  },
  {
   "cell_type": "code",
   "execution_count": null,
   "metadata": {},
   "outputs": [],
   "source": [
    "#this is plotting the images of the three runs. but we only have one...\n",
    "ListOfPoints= [104, 418, 741]#where are these numbers coming from?\n",
    "\n",
    "f, (ax1, ax2, ax3) = plt.subplots(1, 3, figsize=(15,5))\n",
    "\n",
    "TmpImg = (abs(tableData[ListOfPoints[0]-100:ListOfPoints[0]+150]))**(1.1)\n",
    "ax1.imshow(TmpImg,cmap=plt.get_cmap('gray'), aspect='auto')\n",
    "ax1.axhline(100, color='r', linestyle='--')\n",
    "TmpImg = (abs(tableData[ListOfPoints[1]-100:ListOfPoints[1]+150]))**(1.1)\n",
    "ax2.imshow(TmpImg,cmap=plt.get_cmap('gray'), aspect='auto')\n",
    "ax2.axhline(100, color='r', linestyle='--')\n",
    "TmpImg = (abs(tableData[ListOfPoints[2]-100:ListOfPoints[2]+150]))**(1.1)\n",
    "ax3.imshow(TmpImg,cmap=plt.get_cmap('gray'), aspect='auto')\n",
    "ax3.axhline(100, color='r', linestyle='--')\n",
    "plt.suptitle('The 3 images in the file')\n",
    "#plt.savefig('Imgs/images_'+RawData.split(\"/\")[-1]+\".png\", bbox_inches='tight')\n",
    "#plt.savefig('Imgs/mapCleanImage_'+RawData.split(\"/\")[-1]+str(Start)+\"-\"+str(Stop)+\".jpg\", bbox_inches='tight')\n",
    "plt.show()"
   ]
  },
  {
   "cell_type": "code",
   "execution_count": null,
   "metadata": {},
   "outputs": [],
   "source": [
    "#this makes one image out of the 3 runs, guess this is for noise reduction.\n",
    "#we cannot do this because we only have 1 run\n",
    "DecImg = []\n",
    "for i in range(150):\n",
    "    tmp = decimate(tableData[ListOfPoints[0]-70+i], 5, ftype='fir')\n",
    "    #tmp += decimate(tableData[ListOfPoints[1]-70+i], 5, ftype='fir')\n",
    "    #tmp += decimate(tableData[ListOfPoints[2]-70+i], 5, ftype='fir')\n",
    "    DecImg.append(tmp)"
   ]
  },
  {
   "cell_type": "code",
   "execution_count": null,
   "metadata": {},
   "outputs": [],
   "source": [
    "#downsample the image, don't know if this is really necessary\n",
    "SmallImg = []\n",
    "for i in range(len(DecImg)/2):\n",
    "    SmallImg.append((DecImg[2*i]+DecImg[2*i+1])/2)"
   ]
  },
  {
   "cell_type": "code",
   "execution_count": null,
   "metadata": {},
   "outputs": [],
   "source": [
    "#function to rotate and shring the image\n",
    "def CreateSC(RawImgData):\n",
    "    LenLinesC = np.shape(RawImgData)[1]\n",
    "    NbLinesC = np.shape(RawImgData)[0]\n",
    "    SC = np.zeros((LenLinesC,LenLinesC))+Val\n",
    "    SC += 1\n",
    "    maxAngle = 60.0\n",
    "    step = maxAngle/(NbLinesC+1)\n",
    "    CosAngle = math.cos(math.radians(30))\n",
    "    Limit = LenLinesC*CosAngle\n",
    "\n",
    "    points = []\n",
    "    values = []\n",
    "\n",
    "    for i in range(LenLinesC):\n",
    "        for j in range(LenLinesC):\n",
    "            if (  (j > LenLinesC/2 + i/(2*CosAngle)) or  (j < LenLinesC/2 - i/(2*CosAngle)) ):\n",
    "                SC[i][j] = 0\n",
    "                points.append([i,j])\n",
    "                values.append(0)\n",
    "            if (  (i > Limit) ):\n",
    "                if ( (i**2 + (j-LenLinesC/2) ** 2) > LenLinesC**2):\n",
    "                    SC[i][j] = 0 \n",
    "                    points.append([i,j])\n",
    "                    values.append(0)\n",
    "    for i in range(NbLinesC):\n",
    "        PointAngle = i*step-30\n",
    "        COS = math.cos(math.radians(PointAngle))\n",
    "        SIN = math.sin(math.radians(PointAngle))\n",
    "        for j in range(LenLinesC):\n",
    "\n",
    "            X = (int)( j*COS)\n",
    "            Y = (int)(LenLinesC/2 - j*SIN)\n",
    "            SC[X][Y] = RawImgData[i][j]\n",
    "            points.append([X,Y])\n",
    "            values.append(RawImgData[i][j])\n",
    "\n",
    "    values = np.array(values,dtype=np.int)\n",
    "    \n",
    "    return SC,values,points,LenLinesC"
   ]
  },
  {
   "cell_type": "code",
   "execution_count": null,
   "metadata": {},
   "outputs": [],
   "source": [
    "#create the rotated shrinked image\n",
    "SCH,valuesH,pointsH,LenLinesCH = CreateSC(SmallImg)\n",
    "grid_xH, grid_yH = np.mgrid[0:LenLinesCH:1, 0:LenLinesCH:1]\n",
    "grid_z1H = griddata(pointsH, valuesH, (grid_xH, grid_yH), method='linear')"
   ]
  },
  {
   "cell_type": "code",
   "execution_count": null,
   "metadata": {},
   "outputs": [],
   "source": [
    "#plot it\n",
    "plt.figure(figsize=(10,10))\n",
    "plt.imshow((grid_z1H**0.7),cmap=plt.get_cmap('gray')) \n",
    "plt.title(\"Getting the image out of the data file: \"+filename.split(\"/\")[-1]+\" .\")  \n",
    "#plt.savefig('Imgs/pic_'+RawData.split(\"/\")[-1]+\".png\", bbox_inches='tight')\n",
    "plt.show()"
   ]
  },
  {
   "cell_type": "code",
   "execution_count": null,
   "metadata": {},
   "outputs": [],
   "source": []
  }
 ],
 "metadata": {
  "kernelspec": {
   "display_name": "Python 2",
   "language": "python",
   "name": "python2"
  },
  "language_info": {
   "codemirror_mode": {
    "name": "ipython",
    "version": 2
   },
   "file_extension": ".py",
   "mimetype": "text/x-python",
   "name": "python",
   "nbconvert_exporter": "python",
   "pygments_lexer": "ipython2",
   "version": "2.7.6"
  }
 },
 "nbformat": 4,
 "nbformat_minor": 2
}
